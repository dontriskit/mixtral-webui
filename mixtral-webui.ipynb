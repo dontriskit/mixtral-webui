{
  "nbformat": 4,
  "nbformat_minor": 0,
  "metadata": {
    "colab": {
      "name": "mixtral-webui",
      "provenance": []
    },
    "kernelspec": {
      "name": "python3",
      "display_name": "Python 3"
    },
    "language_info": {
      "name": "python"
    }
  },
  "cells": [
    {
      "cell_type": "code",
      "source": [
        "!apt-get update\n",
        "!apt-get install git build-essential python3-dev -y\n",
        "!pip install -r requirements.txt\n",
        "!mkdir repositories\n",
        "%cd repositories/\n",
        "!git clone https://github.com/abetlen/llama-cpp-python\n",
        "%cd llama-cpp-python\n",
        "%cd vendor\n",
        "!rm -r -f llama.cpp\n",
        "!git clone --branch=mixtral https://github.com/ggerganov/llama.cpp.git\n",
        "%cd ..\n",
        "!CMAKE_ARGS=\"-DLLAMA_CUBLAS=on\" pip install -e .\n",
        "%cd ../../\n",
        "!python server.py --share"
      ],
      "metadata": {
        "id": "your-cell-id"
      },
      "execution_count": null,
      "outputs": []
    }
  ]
}
